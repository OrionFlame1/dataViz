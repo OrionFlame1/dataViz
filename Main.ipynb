{
 "cells": [
  {
   "cell_type": "code",
   "execution_count": 20,
   "id": "832207d0-17f4-4905-a5b0-7c50e27d4961",
   "metadata": {
    "jupyter": {
     "source_hidden": true
    }
   },
   "outputs": [],
   "source": [
    "import pandas as pd\n",
    "import matplotlib.pyplot as plt\n",
    "import matplotlib.ticker as ticker\n",
    "import seaborn as sb\n",
    "\n",
    "df = pd.read_csv(\"material_flow.csv\")\n",
    "\n",
    "# Setting max_rows display per print\n",
    "# pd.options.display.max_rows = 20\n",
    "\n",
    "# All + continents rows, need only countries\n",
    "removed = [\"World\", \"Asia + Pacific\", \"North America\", \"EECCA\", \"West Asia\", \"Africa\", \"Europe\", \"Latin America + Caribbean\"]\n",
    "\n",
    "# # Filter only rows where \"Flow code\" == \"DMI\"\n",
    "# df_filtered = df[(df[\"Flow code\"] == \"EXP\") & (df[\"Category\"] == \"Fossil fuels\")]\n",
    "\n",
    "# # Select relevant columns: \"Country\" and \"2022\"\n",
    "# df_filtered = df_filtered[[\"Country\", \"2020\"]]\n",
    "\n",
    "# # Convert \"2022\" column to numeric (in case it's read as a string)\n",
    "# df_filtered[\"2022\"] = pd.to_numeric(df_filtered[\"2020\"], errors=\"coerce\")\n",
    "\n",
    "# # Plot the data\n",
    "# plt.figure(figsize=(20, 6))\n",
    "# plt.bar(df_filtered[\"Country\"], df_filtered[\"2020\"], color=\"skyblue\")\n",
    "# plt.xlabel(\"Country\")\n",
    "# plt.ylabel(\"Value for 2020\")\n",
    "# plt.title(\"Flow Code = DMI, Year = 2020 for Each Country\")\n",
    "# plt.xticks(rotation=90)  # Rotate x-axis labels for better readability\n",
    "# plt.show()"
   ]
  },
  {
   "cell_type": "code",
   "execution_count": 3,
   "id": "b28d1486-ae02-42c4-b213-7bd641f5f113",
   "metadata": {
    "collapsed": true,
    "jupyter": {
     "outputs_hidden": true,
     "source_hidden": true
    }
   },
   "outputs": [
    {
     "data": {
      "text/html": [
       "<div>\n",
       "<style scoped>\n",
       "    .dataframe tbody tr th:only-of-type {\n",
       "        vertical-align: middle;\n",
       "    }\n",
       "\n",
       "    .dataframe tbody tr th {\n",
       "        vertical-align: top;\n",
       "    }\n",
       "\n",
       "    .dataframe thead th {\n",
       "        text-align: right;\n",
       "    }\n",
       "</style>\n",
       "<table border=\"1\" class=\"dataframe\">\n",
       "  <thead>\n",
       "    <tr style=\"text-align: right;\">\n",
       "      <th></th>\n",
       "      <th>Flow name</th>\n",
       "      <th>Category</th>\n",
       "    </tr>\n",
       "  </thead>\n",
       "  <tbody>\n",
       "    <tr>\n",
       "      <th>0</th>\n",
       "      <td>Domestic Extraction</td>\n",
       "      <td>Biomass</td>\n",
       "    </tr>\n",
       "    <tr>\n",
       "      <th>1</th>\n",
       "      <td>Domestic Material Consumption</td>\n",
       "      <td>Biomass</td>\n",
       "    </tr>\n",
       "    <tr>\n",
       "      <th>2</th>\n",
       "      <td>Domestic Material Input</td>\n",
       "      <td>Biomass</td>\n",
       "    </tr>\n",
       "    <tr>\n",
       "      <th>3</th>\n",
       "      <td>Exports</td>\n",
       "      <td>Biomass</td>\n",
       "    </tr>\n",
       "    <tr>\n",
       "      <th>4</th>\n",
       "      <td>Imports</td>\n",
       "      <td>Biomass</td>\n",
       "    </tr>\n",
       "    <tr>\n",
       "      <th>...</th>\n",
       "      <td>...</td>\n",
       "      <td>...</td>\n",
       "    </tr>\n",
       "    <tr>\n",
       "      <th>66</th>\n",
       "      <td>Domestic Material Consumption</td>\n",
       "      <td>Waste for final treatment and disposal</td>\n",
       "    </tr>\n",
       "    <tr>\n",
       "      <th>67</th>\n",
       "      <td>Domestic Material Input</td>\n",
       "      <td>Waste for final treatment and disposal</td>\n",
       "    </tr>\n",
       "    <tr>\n",
       "      <th>68</th>\n",
       "      <td>Exports</td>\n",
       "      <td>Waste for final treatment and disposal</td>\n",
       "    </tr>\n",
       "    <tr>\n",
       "      <th>69</th>\n",
       "      <td>Imports</td>\n",
       "      <td>Waste for final treatment and disposal</td>\n",
       "    </tr>\n",
       "    <tr>\n",
       "      <th>70</th>\n",
       "      <td>Physical Trade Balance</td>\n",
       "      <td>Waste for final treatment and disposal</td>\n",
       "    </tr>\n",
       "  </tbody>\n",
       "</table>\n",
       "<p>71 rows × 2 columns</p>\n",
       "</div>"
      ],
      "text/plain": [
       "                        Flow name                                Category\n",
       "0             Domestic Extraction                                 Biomass\n",
       "1   Domestic Material Consumption                                 Biomass\n",
       "2         Domestic Material Input                                 Biomass\n",
       "3                         Exports                                 Biomass\n",
       "4                         Imports                                 Biomass\n",
       "..                            ...                                     ...\n",
       "66  Domestic Material Consumption  Waste for final treatment and disposal\n",
       "67        Domestic Material Input  Waste for final treatment and disposal\n",
       "68                        Exports  Waste for final treatment and disposal\n",
       "69                        Imports  Waste for final treatment and disposal\n",
       "70         Physical Trade Balance  Waste for final treatment and disposal\n",
       "\n",
       "[71 rows x 2 columns]"
      ]
     },
     "execution_count": 3,
     "metadata": {},
     "output_type": "execute_result"
    }
   ],
   "source": [
    "# Listing unique combinations of Flow Names and Categories\n",
    "\n",
    "\n",
    "df_distinct = df[[\"Flow name\", \"Category\"]].drop_duplicates()\n",
    "df_distinct"
   ]
  },
  {
   "cell_type": "code",
   "execution_count": 22,
   "id": "ddab7552-8cc0-4e65-9e09-fdf0127780ed",
   "metadata": {},
   "outputs": [],
   "source": [
    "# Domestic Extraction\tFossil fuels (countries that extract petroleum)\n",
    "# Products from fossil fuel/import (countries that buy gas n stuff)\n",
    "# Products from biomass   export (countries that export other types of fuel like charcoal, methane, hydrogene"
   ]
  },
  {
   "cell_type": "code",
   "execution_count": 47,
   "id": "ff926f20-c5e9-4960-abaa-6d428f553663",
   "metadata": {},
   "outputs": [
    {
     "name": "stderr",
     "output_type": "stream",
     "text": [
      "/tmp/ipykernel_128/4132589570.py:43: UserWarning: set_ticklabels() should only be used with a fixed number of ticks, i.e. after set_ticks() or using a FixedLocator.\n",
      "  plot.set_xticklabels(labels = df_petroleum_extraction[\"Country\"], rotation=45)\n"
     ]
    },
    {
     "data": {
      "image/png": "[encoded data removed]",
      "text/plain": [
       "<Figure size 640x480 with 1 Axes>"
      ]
     },
     "metadata": {},
     "output_type": "display_data"
    }
   ],
   "source": [
    "# Chart for the countries that extract petroleum (2024)\n",
    "YEAR = \"2024\"\n",
    "FLOW_NAME = \"Domestic Extraction\"\n",
    "CATEGORY = \"Fossil fuels\"\n",
    "\n",
    "YEARS = [\"1970\", \"1990\", \"2010\", \"2024\"]\n",
    "\n",
    "filter = YEARS\n",
    "filter.append(\"Country\")\n",
    "\n",
    "# Filter for this chart only\n",
    "df_petroleum_extraction = df[(df[\"Flow name\"] == FLOW_NAME) & (df[\"Category\"] == CATEGORY)]\n",
    "df_petroleum_extraction = df_petroleum_extraction[filter]\n",
    "df_petroleum_extraction\n",
    "\n",
    "# # drop NaN rows and 0 value rows\n",
    "df_petroleum_extraction = df_petroleum_extraction.dropna()\n",
    "df_petroleum_extraction = df_petroleum_extraction[df_petroleum_extraction[YEAR] > 0]\n",
    "\n",
    "# # sorting descending\n",
    "df_petroleum_extraction = df_petroleum_extraction.sort_values(YEAR, ascending=False)\n",
    "\n",
    "df_petroleum_extraction = df_petroleum_extraction[~df_petroleum_extraction[\"Country\"].isin(removed)]\n",
    "\n",
    "df_petroleum_extraction = df_petroleum_extraction.head()\n",
    "\n",
    "melted_data = pd.melt(\n",
    "    df_petroleum_extraction,\n",
    "    id_vars=[\"Country\"],\n",
    "    value_vars=YEARS,\n",
    "    var_name=\"Year\",\n",
    "    value_name=\"Value\"\n",
    ")\n",
    "\n",
    "plot = sb.barplot(\n",
    "    data=melted_data,\n",
    "    x=\"Country\",\n",
    "    y=\"Value\",\n",
    "    hue=\"Year\",\n",
    "    palette=\"viridis\"  # Use any color palette you like\n",
    ")\n",
    "\n",
    "plot.set_xticklabels(labels = df_petroleum_extraction[\"Country\"], rotation=45)\n",
    "plot.yaxis.offsetText.set_visible(False)\n",
    "\n",
    "plt.xlabel(\"Country\")\n",
    "plt.ylabel(f\"{FLOW_NAME} (Mt)\")  # Use the flow unit from the data\n",
    "plt.title(f\"{FLOW_NAME} by Country for Selected Years\")\n",
    "plt.legend(title=\"Year\")\n",
    "\n",
    "# Show the plot\n",
    "plt.show()\n",
    "\n",
    "# plot = sb.barplot(data = df_petroleum_extraction, x = df_petroleum_extraction[\"Country\"], y = df_petroleum_extraction[YEAR])\n",
    "# plt.ylabel(\"millions of tons\")\n",
    "# plt.title(\"Millions of tons of fossil fuels extracted by country, \" + YEAR)\n",
    "\n",
    "\n",
    "\n",
    "# plt.gca().xaxis.set_major_formatter(ticker.ScalarFormatter(useOffset=False, useMathText=False))"
   ]
  },
  {
   "cell_type": "code",
   "execution_count": null,
   "id": "d9cbbac8-e26a-4a24-b8b4-398ee9701e4f",
   "metadata": {},
   "outputs": [],
   "source": []
  }
 ],
 "metadata": {
  "kernelspec": {
   "display_name": "Python 3 (ipykernel)",
   "language": "python",
   "name": "python3"
  },
  "language_info": {
   "codemirror_mode": {
    "name": "ipython",
    "version": 3
   },
   "file_extension": ".py",
   "mimetype": "text/x-python",
   "name": "python",
   "nbconvert_exporter": "python",
   "pygments_lexer": "ipython3",
   "version": "3.12.8"
  }
 },
 "nbformat": 4,
 "nbformat_minor": 5
}
